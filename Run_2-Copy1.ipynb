{
 "cells": [
  {
   "cell_type": "code",
   "execution_count": 1,
   "metadata": {},
   "outputs": [],
   "source": [
    "import datetime\n",
    "\n",
    "from util.util import importstr\n",
    "from util.logconf import logging\n",
    "log = logging.getLogger('nb')"
   ]
  },
  {
   "cell_type": "code",
   "execution_count": 2,
   "metadata": {},
   "outputs": [],
   "source": [
    "def run(app, *argv):\n",
    "    argv = list(argv)\n",
    "    argv.insert(0, '--num-workers=4')  # <1>\n",
    "    log.info(\"Running: {}({!r}).main()\".format(app, argv))\n",
    "    \n",
    "    app_cls = importstr(*app.rsplit('.', 1))  # <2>\n",
    "    app_cls(argv).main()\n",
    "    \n",
    "    log.info(\"Finished: {}.{!r}).main()\".format(app, argv))"
   ]
  },
  {
   "cell_type": "code",
   "execution_count": 3,
   "metadata": {},
   "outputs": [],
   "source": [
    "import os\n",
    "import shutil\n",
    "\n",
    "# clean up any old data that might be around.\n",
    "# We don't call this by default because it's destructive, \n",
    "# and would waste a lot of time if it ran when nothing \n",
    "# on the application side had changed.\n",
    "def cleanCache():\n",
    "    shutil.rmtree('../data-luna/data-unversioned/cache')\n",
    "    os.mkdir('../data-luna/data-unversioned/cache')\n",
    "\n",
    "#cleanCache()"
   ]
  },
  {
   "cell_type": "code",
   "execution_count": 4,
   "metadata": {},
   "outputs": [],
   "source": [
    "training_epochs = 10"
   ]
  },
  {
   "cell_type": "code",
   "execution_count": null,
   "metadata": {},
   "outputs": [
    {
     "name": "stderr",
     "output_type": "stream",
     "text": [
      "2020-08-22 01:02:55,677 INFO     pid:664 nb:004:run Running: prepcache.LunaPrepCacheApp(['--num-workers=4']).main()\n",
      "2020-08-22 01:03:20,514 INFO     pid:664 prepcache:043:main Starting LunaPrepCacheApp, Namespace(batch_size=256, num_workers=4)\n",
      "2020-08-22 01:03:31,057 INFO     pid:664 dsets:272:__init__ <dsets.LunaDataset object at 0x0000015DED8CDD48>: 551065 training samples, 549714 neg, 1351 pos, unbalanced ratio\n",
      "2020-08-22 01:03:31,058 WARNING  pid:664 util.util:221:enumerateWithEstimate Stuffing cache ----/2153, starting\n",
      "2020-08-22 01:04:46,501 INFO     pid:664 util.util:241:enumerateWithEstimate Stuffing cache   16/2153, done at 2020-08-22 02:44:04, 1:39:54\n",
      "2020-08-22 01:06:45,673 INFO     pid:664 util.util:241:enumerateWithEstimate Stuffing cache   64/2153, done at 2020-08-22 02:35:26, 1:31:15\n",
      "2020-08-22 01:21:17,454 INFO     pid:664 util.util:241:enumerateWithEstimate Stuffing cache  256/2153, done at 2020-08-22 03:29:35, 2:25:25\n"
     ]
    }
   ],
   "source": [
    "run('prepcache.LunaPrepCacheApp')"
   ]
  },
  {
   "cell_type": "code",
   "execution_count": null,
   "metadata": {},
   "outputs": [
    {
     "name": "stderr",
     "output_type": "stream",
     "text": [
      "2020-08-21 17:03:51,415 INFO     pid:4960 nb:004:run Running: training.LunaTrainingApp(['--num-workers=8', '--num-workers=4', '--epochs=10', '--batch-size=64', '--balanced', '--augmented', 'fully-augmented']).main()\n",
      "C:\\Users\\navpr\\anaconda3\\lib\\site-packages\\tensorboard\\compat\\tensorflow_stub\\dtypes.py:541: FutureWarning: Passing (type, 1) or '1type' as a synonym of type is deprecated; in a future version of numpy, it will be understood as (type, (1,)) / '(1,)type'.\n",
      "  _np_qint8 = np.dtype([(\"qint8\", np.int8, 1)])\n",
      "C:\\Users\\navpr\\anaconda3\\lib\\site-packages\\tensorboard\\compat\\tensorflow_stub\\dtypes.py:542: FutureWarning: Passing (type, 1) or '1type' as a synonym of type is deprecated; in a future version of numpy, it will be understood as (type, (1,)) / '(1,)type'.\n",
      "  _np_quint8 = np.dtype([(\"quint8\", np.uint8, 1)])\n",
      "C:\\Users\\navpr\\anaconda3\\lib\\site-packages\\tensorboard\\compat\\tensorflow_stub\\dtypes.py:543: FutureWarning: Passing (type, 1) or '1type' as a synonym of type is deprecated; in a future version of numpy, it will be understood as (type, (1,)) / '(1,)type'.\n",
      "  _np_qint16 = np.dtype([(\"qint16\", np.int16, 1)])\n",
      "C:\\Users\\navpr\\anaconda3\\lib\\site-packages\\tensorboard\\compat\\tensorflow_stub\\dtypes.py:544: FutureWarning: Passing (type, 1) or '1type' as a synonym of type is deprecated; in a future version of numpy, it will be understood as (type, (1,)) / '(1,)type'.\n",
      "  _np_quint16 = np.dtype([(\"quint16\", np.uint16, 1)])\n",
      "C:\\Users\\navpr\\anaconda3\\lib\\site-packages\\tensorboard\\compat\\tensorflow_stub\\dtypes.py:545: FutureWarning: Passing (type, 1) or '1type' as a synonym of type is deprecated; in a future version of numpy, it will be understood as (type, (1,)) / '(1,)type'.\n",
      "  _np_qint32 = np.dtype([(\"qint32\", np.int32, 1)])\n",
      "C:\\Users\\navpr\\anaconda3\\lib\\site-packages\\tensorboard\\compat\\tensorflow_stub\\dtypes.py:550: FutureWarning: Passing (type, 1) or '1type' as a synonym of type is deprecated; in a future version of numpy, it will be understood as (type, (1,)) / '(1,)type'.\n",
      "  np_resource = np.dtype([(\"resource\", np.ubyte, 1)])\n",
      "2020-08-21 17:03:57,148 INFO     pid:4960 training:127:initModel Using CUDA; 1 devices.\n",
      "2020-08-21 17:03:59,014 INFO     pid:4960 training:188:main Starting LunaTrainingApp, Namespace(augment_flip=False, augment_noise=False, augment_offset=False, augment_rotate=False, augment_scale=False, augmented=True, balanced=True, batch_size=64, comment='fully-augmented', epochs=10, num_workers=4, tb_prefix='12')\n",
      "2020-08-21 17:04:05,317 INFO     pid:4960 dsets:272:__init__ <dsets.LunaDataset object at 0x0000022A5B1B6E48>: 495958 training samples, 494743 neg, 1215 pos, 1:1 ratio\n",
      "2020-08-21 17:04:05,401 INFO     pid:4960 dsets:272:__init__ <dsets.LunaDataset object at 0x0000022A04098948>: 55107 validation samples, 54971 neg, 136 pos, unbalanced ratio\n",
      "2020-08-21 17:04:05,402 INFO     pid:4960 training:201:main Epoch 1 of 10, 3125/862 batches of size 64*1\n",
      "2020-08-21 17:04:05,914 WARNING  pid:4960 util.util:221:enumerateWithEstimate E1 Training ----/3125, starting\n",
      "2020-08-21 17:04:37,142 INFO     pid:4960 util.util:241:enumerateWithEstimate E1 Training   16/3125, done at 2020-08-21 17:19:36, 0:15:02\n",
      "2020-08-21 17:04:56,136 INFO     pid:4960 util.util:241:enumerateWithEstimate E1 Training   64/3125, done at 2020-08-21 17:23:57, 0:19:24\n",
      "2020-08-21 17:06:20,328 INFO     pid:4960 util.util:241:enumerateWithEstimate E1 Training  256/3125, done at 2020-08-21 17:26:32, 0:21:59\n",
      "2020-08-21 17:12:04,473 INFO     pid:4960 util.util:241:enumerateWithEstimate E1 Training 1024/3125, done at 2020-08-21 17:27:32, 0:22:58\n",
      "2020-08-21 17:28:36,610 WARNING  pid:4960 util.util:252:enumerateWithEstimate E1 Training ----/3125, done at 2020-08-21 17:28:36\n",
      "2020-08-21 17:28:36,629 INFO     pid:4960 training:306:logMetrics E1 LunaTrainingApp\n",
      "2020-08-21 17:28:36,672 INFO     pid:4960 training:350:logMetrics E1 trn      0.2032 loss,  91.9% correct, 0.9363 precision, 0.8985 recall, 0.9170 f1 score\n",
      "2020-08-21 17:28:36,676 INFO     pid:4960 training:361:logMetrics E1 trn_neg  0.1848 loss,  93.9% correct (93887 of 100000)\n",
      "2020-08-21 17:28:36,679 INFO     pid:4960 training:372:logMetrics E1 trn_pos  0.2215 loss,  89.9% correct (89853 of 100000)\n",
      "2020-08-21 17:28:36,821 WARNING  pid:4960 util.util:221:enumerateWithEstimate E1 Validation  ----/862, starting\n",
      "2020-08-21 17:29:00,189 INFO     pid:4960 util.util:241:enumerateWithEstimate E1 Validation    16/862, done at 2020-08-21 17:34:14, 0:05:18\n",
      "2020-08-21 17:29:12,150 INFO     pid:4960 util.util:241:enumerateWithEstimate E1 Validation    64/862, done at 2020-08-21 17:32:51, 0:03:56\n",
      "2020-08-21 17:30:00,072 INFO     pid:4960 util.util:241:enumerateWithEstimate E1 Validation   256/862, done at 2020-08-21 17:32:34, 0:03:39\n",
      "2020-08-21 17:32:24,141 WARNING  pid:4960 util.util:252:enumerateWithEstimate E1 Validation  ----/862, done at 2020-08-21 17:32:24\n",
      "2020-08-21 17:32:24,143 INFO     pid:4960 training:306:logMetrics E1 LunaTrainingApp\n",
      "2020-08-21 17:32:24,147 INFO     pid:4960 training:350:logMetrics E1 val      0.1653 loss,  95.0% correct, 0.0456 precision, 0.9632 recall, 0.0870 f1 score\n",
      "2020-08-21 17:32:24,149 INFO     pid:4960 training:361:logMetrics E1 val_neg  0.1655 loss,  95.0% correct (52227 of 54971)\n",
      "2020-08-21 17:32:24,151 INFO     pid:4960 training:372:logMetrics E1 val_pos  0.1167 loss,  96.3% correct (131 of 136)\n",
      "2020-08-21 17:32:24,201 INFO     pid:4960 training:201:main Epoch 2 of 10, 3125/862 batches of size 64*1\n",
      "2020-08-21 17:32:24,969 WARNING  pid:4960 util.util:221:enumerateWithEstimate E2 Training ----/3125, starting\n",
      "2020-08-21 17:32:53,510 INFO     pid:4960 util.util:241:enumerateWithEstimate E2 Training   16/3125, done at 2020-08-21 17:57:52, 0:25:05\n",
      "2020-08-21 17:33:12,599 INFO     pid:4960 util.util:241:enumerateWithEstimate E2 Training   64/3125, done at 2020-08-21 17:54:24, 0:21:37\n",
      "2020-08-21 17:34:29,219 INFO     pid:4960 util.util:241:enumerateWithEstimate E2 Training  256/3125, done at 2020-08-21 17:53:45, 0:20:58\n",
      "2020-08-21 17:42:49,796 INFO     pid:4960 util.util:241:enumerateWithEstimate E2 Training 1024/3125, done at 2020-08-21 18:03:29, 0:30:41\n",
      "2020-08-21 18:05:10,314 WARNING  pid:4960 util.util:252:enumerateWithEstimate E2 Training ----/3125, done at 2020-08-21 18:05:10\n"
     ]
    }
   ],
   "source": [
    "run('training.LunaTrainingApp', f'--epochs={training_epochs}', '--batch-size=64', '--balanced', '--augmented', 'fully-augmented')"
   ]
  },
  {
   "cell_type": "code",
   "execution_count": null,
   "metadata": {},
   "outputs": [
    {
     "name": "stderr",
     "output_type": "stream",
     "text": [
      "2020-08-21 19:06:01,425 INFO     pid:2740 nb:004:run Running: training.LunaTrainingApp(['--num-workers=8', '--epochs=10', '--num-workers=4', '--batch-size=64', '--balanced', '--augmented', 'fully-augmented']).main()\n",
      "2020-08-21 19:06:01,437 INFO     pid:2740 training:127:initModel Using CUDA; 1 devices.\n",
      "2020-08-21 19:06:01,465 INFO     pid:2740 training:188:main Starting LunaTrainingApp, Namespace(augment_flip=False, augment_noise=False, augment_offset=False, augment_rotate=False, augment_scale=False, augmented=True, balanced=True, batch_size=64, comment='fully-augmented', epochs=10, num_workers=4, tb_prefix='12')\n",
      "2020-08-21 19:06:02,167 INFO     pid:2740 dsets:272:__init__ <dsets.LunaDataset object at 0x0000017457F6CA08>: 495958 training samples, 494743 neg, 1215 pos, 1:1 ratio\n",
      "2020-08-21 19:06:02,256 INFO     pid:2740 dsets:272:__init__ <dsets.LunaDataset object at 0x0000017457F855C8>: 55107 validation samples, 54971 neg, 136 pos, unbalanced ratio\n",
      "2020-08-21 19:06:02,293 INFO     pid:2740 training:201:main Epoch 1 of 10, 3125/862 batches of size 64*1\n",
      "2020-08-21 19:06:02,974 WARNING  pid:2740 util.util:221:enumerateWithEstimate E1 Training ----/3125, starting\n",
      "2020-08-21 19:06:29,645 INFO     pid:2740 util.util:241:enumerateWithEstimate E1 Training   16/3125, done at 2020-08-21 19:29:57, 0:23:34\n",
      "2020-08-21 19:06:48,425 INFO     pid:2740 util.util:241:enumerateWithEstimate E1 Training   64/3125, done at 2020-08-21 19:27:25, 0:21:02\n",
      "2020-08-21 19:08:16,689 INFO     pid:2740 util.util:241:enumerateWithEstimate E1 Training  256/3125, done at 2020-08-21 19:29:36, 0:23:13\n",
      "2020-08-21 19:14:13,332 INFO     pid:2740 util.util:241:enumerateWithEstimate E1 Training 1024/3125, done at 2020-08-21 19:30:19, 0:23:55\n",
      "2020-08-21 19:29:29,347 WARNING  pid:2740 util.util:252:enumerateWithEstimate E1 Training ----/3125, done at 2020-08-21 19:29:29\n",
      "2020-08-21 19:29:30,719 INFO     pid:2740 training:306:logMetrics E1 LunaTrainingApp\n",
      "2020-08-21 19:29:30,760 INFO     pid:2740 training:350:logMetrics E1 trn      0.2243 loss,  90.5% correct, 0.9235 precision, 0.8835 recall, 0.9030 f1 score\n",
      "2020-08-21 19:29:30,762 INFO     pid:2740 training:361:logMetrics E1 trn_neg  0.2087 loss,  92.7% correct (92678 of 100000)\n",
      "2020-08-21 19:29:30,765 INFO     pid:2740 training:372:logMetrics E1 trn_pos  0.2399 loss,  88.3% correct (88350 of 100000)\n",
      "2020-08-21 19:29:30,916 WARNING  pid:2740 util.util:221:enumerateWithEstimate E1 Validation  ----/862, starting\n",
      "2020-08-21 19:29:48,084 INFO     pid:2740 util.util:241:enumerateWithEstimate E1 Validation    16/862, done at 2020-08-21 19:35:14, 0:05:31\n",
      "2020-08-21 19:30:02,423 INFO     pid:2740 util.util:241:enumerateWithEstimate E1 Validation    64/862, done at 2020-08-21 19:34:15, 0:04:32\n",
      "2020-08-21 19:30:59,779 INFO     pid:2740 util.util:241:enumerateWithEstimate E1 Validation   256/862, done at 2020-08-21 19:34:03, 0:04:20\n",
      "2020-08-21 19:34:13,816 WARNING  pid:2740 util.util:252:enumerateWithEstimate E1 Validation  ----/862, done at 2020-08-21 19:34:13\n",
      "2020-08-21 19:34:13,820 INFO     pid:2740 training:306:logMetrics E1 LunaTrainingApp\n",
      "2020-08-21 19:34:13,829 INFO     pid:2740 training:350:logMetrics E1 val      0.1327 loss,  96.3% correct, 0.0582 precision, 0.9118 recall, 0.1093 f1 score\n",
      "2020-08-21 19:34:13,833 INFO     pid:2740 training:361:logMetrics E1 val_neg  0.1326 loss,  96.3% correct (52963 of 54971)\n",
      "2020-08-21 19:34:13,836 INFO     pid:2740 training:372:logMetrics E1 val_pos  0.1918 loss,  91.2% correct (124 of 136)\n",
      "2020-08-21 19:34:13,892 INFO     pid:2740 training:201:main Epoch 2 of 10, 3125/862 batches of size 64*1\n",
      "2020-08-21 19:34:14,886 WARNING  pid:2740 util.util:221:enumerateWithEstimate E2 Training ----/3125, starting\n",
      "2020-08-21 19:35:06,849 INFO     pid:2740 util.util:241:enumerateWithEstimate E2 Training   16/3125, done at 2020-08-21 20:20:42, 0:45:47\n",
      "2020-08-21 19:35:43,307 INFO     pid:2740 util.util:241:enumerateWithEstimate E2 Training   64/3125, done at 2020-08-21 20:15:46, 0:40:50\n",
      "2020-08-21 19:37:57,356 INFO     pid:2740 util.util:241:enumerateWithEstimate E2 Training  256/3125, done at 2020-08-21 20:12:19, 0:37:24\n",
      "2020-08-21 19:46:08,611 INFO     pid:2740 util.util:241:enumerateWithEstimate E2 Training 1024/3125, done at 2020-08-21 20:09:13, 0:34:17\n",
      "2020-08-21 20:07:38,218 WARNING  pid:2740 util.util:252:enumerateWithEstimate E2 Training ----/3125, done at 2020-08-21 20:07:38\n"
     ]
    }
   ],
   "source": [
    "run('training.LunaTrainingApp', f'--epochs={training_epochs}', '--num-workers=4', '--batch-size=32', '--balanced', '--augmented', 'fully-augmented')"
   ]
  },
  {
   "cell_type": "code",
   "execution_count": null,
   "metadata": {},
   "outputs": [],
   "source": []
  }
 ],
 "metadata": {
  "kernelspec": {
   "display_name": "Python 3",
   "language": "python",
   "name": "python3"
  },
  "language_info": {
   "codemirror_mode": {
    "name": "ipython",
    "version": 3
   },
   "file_extension": ".py",
   "mimetype": "text/x-python",
   "name": "python",
   "nbconvert_exporter": "python",
   "pygments_lexer": "ipython3",
   "version": "3.7.6"
  }
 },
 "nbformat": 4,
 "nbformat_minor": 2
}
