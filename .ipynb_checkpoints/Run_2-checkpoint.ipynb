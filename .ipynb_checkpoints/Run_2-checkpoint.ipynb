{
 "cells": [
  {
   "cell_type": "code",
   "execution_count": 5,
   "metadata": {},
   "outputs": [],
   "source": [
    "import datetime\n",
    "\n",
    "from util.util import importstr\n",
    "from util.logconf import logging\n",
    "log = logging.getLogger('nb')"
   ]
  },
  {
   "cell_type": "code",
   "execution_count": 15,
   "metadata": {},
   "outputs": [],
   "source": [
    "def run(app, *argv):\n",
    "    argv = list(argv)\n",
    "    argv.insert(0, '--num-workers=8')  # <1>\n",
    "    log.info(\"Running: {}({!r}).main()\".format(app, argv))\n",
    "    \n",
    "    app_cls = importstr(*app.rsplit('.', 1))  # <2>\n",
    "    app_cls(argv).main()\n",
    "    \n",
    "    log.info(\"Finished: {}.{!r}).main()\".format(app, argv))"
   ]
  },
  {
   "cell_type": "code",
   "execution_count": 11,
   "metadata": {},
   "outputs": [],
   "source": [
    "import os\n",
    "import shutil\n",
    "\n",
    "# clean up any old data that might be around.\n",
    "# We don't call this by default because it's destructive, \n",
    "# and would waste a lot of time if it ran when nothing \n",
    "# on the application side had changed.\n",
    "def cleanCache():\n",
    "    shutil.rmtree('data-unversioned/cache')\n",
    "    os.mkdir('data-unversioned/cache')\n",
    "\n",
    "# cleanCache()"
   ]
  },
  {
   "cell_type": "code",
   "execution_count": 12,
   "metadata": {},
   "outputs": [],
   "source": [
    "training_epochs = 20\n",
    "experiment_epochs = 10\n",
    "final_epochs = 50\n",
    "\n",
    "training_epochs = 2\n",
    "experiment_epochs = 2\n",
    "final_epochs = 5\n",
    "seg_epochs = 10"
   ]
  },
  {
   "cell_type": "code",
   "execution_count": 16,
   "metadata": {},
   "outputs": [
    {
     "name": "stderr",
     "output_type": "stream",
     "text": [
      "2020-08-21 02:14:59,230 INFO     pid:4576 nb:004:run Running: prepcache.LunaPrepCacheApp(['--num-workers=8']).main()\n",
      "2020-08-21 02:14:59,232 INFO     pid:4576 prepcache:043:main Starting LunaPrepCacheApp, Namespace(batch_size=1024, num_workers=8)\n",
      "2020-08-21 02:14:59,672 INFO     pid:4576 dsets:185:__init__ <dsets.LunaDataset object at 0x000001F15721FB88>: 551065 training samples\n",
      "2020-08-21 02:14:59,673 WARNING  pid:4576 util.util:221:enumerateWithEstimate Stuffing cache ----/539, starting\n",
      "2020-08-21 02:16:37,871 INFO     pid:4576 util.util:241:enumerateWithEstimate Stuffing cache   64/539, done at 2020-08-21 02:25:24, 0:09:50\n",
      "2020-08-21 02:19:29,828 INFO     pid:4576 util.util:241:enumerateWithEstimate Stuffing cache  256/539, done at 2020-08-21 02:23:56, 0:08:21\n",
      "2020-08-21 02:23:38,064 WARNING  pid:4576 util.util:252:enumerateWithEstimate Stuffing cache ----/539, done at 2020-08-21 02:23:38\n",
      "2020-08-21 02:23:38,076 INFO     pid:4576 nb:009:run Finished: prepcache.LunaPrepCacheApp.['--num-workers=8']).main()\n"
     ]
    }
   ],
   "source": [
    "run('prepcache.LunaPrepCacheApp')"
   ]
  },
  {
   "cell_type": "code",
   "execution_count": 21,
   "metadata": {},
   "outputs": [
    {
     "name": "stderr",
     "output_type": "stream",
     "text": [
      "2020-08-21 02:39:31,528 INFO     pid:4576 nb:004:run Running: training.LunaTrainingApp(['--num-workers=8', '--epochs=1', '--batch-size=128']).main()\n",
      "2020-08-21 02:39:31,534 INFO     pid:4576 training:079:initModel Using CUDA; 1 devices.\n",
      "2020-08-21 02:39:31,552 INFO     pid:4576 training:138:main Starting LunaTrainingApp, Namespace(batch_size=128, comment='dwlpt', epochs=1, num_workers=8, tb_prefix='11')\n",
      "2020-08-21 02:39:31,855 INFO     pid:4576 dsets:185:__init__ <dsets.LunaDataset object at 0x000001F158FF5048>: 495958 training samples\n",
      "2020-08-21 02:39:31,900 INFO     pid:4576 dsets:185:__init__ <dsets.LunaDataset object at 0x000001F1585BD048>: 55107 validation samples\n",
      "2020-08-21 02:39:31,900 INFO     pid:4576 training:151:main Epoch 1 of 1, 3875/431 batches of size 128*1\n",
      "2020-08-21 02:39:31,902 WARNING  pid:4576 util.util:221:enumerateWithEstimate E1 Training ----/3875, starting\n",
      "2020-08-21 02:40:19,302 INFO     pid:4576 util.util:241:enumerateWithEstimate E1 Training   64/3875, done at 2020-08-21 03:03:06, 0:23:07\n",
      "2020-08-21 02:41:32,444 INFO     pid:4576 util.util:241:enumerateWithEstimate E1 Training  256/3875, done at 2020-08-21 03:04:12, 0:24:13\n",
      "2020-08-21 02:46:29,900 INFO     pid:4576 util.util:241:enumerateWithEstimate E1 Training 1024/3875, done at 2020-08-21 03:04:45, 0:24:46\n",
      "2020-08-21 03:05:10,406 WARNING  pid:4576 util.util:252:enumerateWithEstimate E1 Training ----/3875, done at 2020-08-21 03:05:10\n",
      "2020-08-21 03:05:11,128 INFO     pid:4576 training:261:logMetrics E1 LunaTrainingApp\n",
      "2020-08-21 03:05:11,154 INFO     pid:4576 training:295:logMetrics E1 trn      0.0187 loss,  99.7% correct, \n",
      "2020-08-21 03:05:11,154 INFO     pid:4576 training:306:logMetrics E1 trn_neg  0.0026 loss, 100.0% correct (494668 of 494743)\n",
      "2020-08-21 03:05:11,155 INFO     pid:4576 training:317:logMetrics E1 trn_pos  6.5544 loss,   0.0% correct (0 of 1215)\n",
      "2020-08-21 03:05:11,209 WARNING  pid:4576 util.util:221:enumerateWithEstimate E1 Validation  ----/431, starting\n",
      "2020-08-21 03:05:32,310 INFO     pid:4576 util.util:241:enumerateWithEstimate E1 Validation    64/431, done at 2020-08-21 03:06:22, 0:00:57\n",
      "2020-08-21 03:05:55,988 INFO     pid:4576 util.util:241:enumerateWithEstimate E1 Validation   256/431, done at 2020-08-21 03:06:17, 0:00:53\n",
      "2020-08-21 03:06:18,443 WARNING  pid:4576 util.util:252:enumerateWithEstimate E1 Validation  ----/431, done at 2020-08-21 03:06:18\n",
      "2020-08-21 03:06:21,440 INFO     pid:4576 training:261:logMetrics E1 LunaTrainingApp\n",
      "2020-08-21 03:06:21,442 INFO     pid:4576 training:295:logMetrics E1 val      0.0174 loss,  99.8% correct, \n",
      "2020-08-21 03:06:21,443 INFO     pid:4576 training:306:logMetrics E1 val_neg  0.0016 loss, 100.0% correct (54971 of 54971)\n",
      "2020-08-21 03:06:21,444 INFO     pid:4576 training:317:logMetrics E1 val_pos  6.4146 loss,   0.0% correct (0 of 136)\n",
      "2020-08-21 03:06:21,465 INFO     pid:4576 nb:009:run Finished: training.LunaTrainingApp.['--num-workers=8', '--epochs=1', '--batch-size=128']).main()\n"
     ]
    }
   ],
   "source": [
    "run('training.LunaTrainingApp', '--epochs=1','--batch-size=128')"
   ]
  },
  {
   "cell_type": "code",
   "execution_count": null,
   "metadata": {},
   "outputs": [],
   "source": []
  }
 ],
 "metadata": {
  "kernelspec": {
   "display_name": "Python 3",
   "language": "python",
   "name": "python3"
  },
  "language_info": {
   "codemirror_mode": {
    "name": "ipython",
    "version": 3
   },
   "file_extension": ".py",
   "mimetype": "text/x-python",
   "name": "python",
   "nbconvert_exporter": "python",
   "pygments_lexer": "ipython3",
   "version": "3.7.6"
  }
 },
 "nbformat": 4,
 "nbformat_minor": 2
}
