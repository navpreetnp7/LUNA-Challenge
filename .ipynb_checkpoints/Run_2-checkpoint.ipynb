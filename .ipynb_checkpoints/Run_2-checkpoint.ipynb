{
 "cells": [
  {
   "cell_type": "code",
   "execution_count": 2,
   "metadata": {},
   "outputs": [],
   "source": [
    "import datetime\n",
    "\n",
    "from util.util import importstr\n",
    "from util.logconf import logging\n",
    "log = logging.getLogger('nb')"
   ]
  },
  {
   "cell_type": "code",
   "execution_count": 3,
   "metadata": {},
   "outputs": [],
   "source": [
    "def run(app, *argv):\n",
    "    argv = list(argv)\n",
    "    argv.insert(0, '--num-workers=8')  # <1>\n",
    "    log.info(\"Running: {}({!r}).main()\".format(app, argv))\n",
    "    \n",
    "    app_cls = importstr(*app.rsplit('.', 1))  # <2>\n",
    "    app_cls(argv).main()\n",
    "    \n",
    "    log.info(\"Finished: {}.{!r}).main()\".format(app, argv))"
   ]
  },
  {
   "cell_type": "code",
   "execution_count": 4,
   "metadata": {},
   "outputs": [],
   "source": [
    "import os\n",
    "import shutil\n",
    "\n",
    "# clean up any old data that might be around.\n",
    "# We don't call this by default because it's destructive, \n",
    "# and would waste a lot of time if it ran when nothing \n",
    "# on the application side had changed.\n",
    "def cleanCache():\n",
    "    shutil.rmtree('data-unversioned/cache')\n",
    "    os.mkdir('data-unversioned/cache')\n",
    "\n",
    "# cleanCache()"
   ]
  },
  {
   "cell_type": "code",
   "execution_count": 8,
   "metadata": {},
   "outputs": [],
   "source": [
    "training_epochs = 10"
   ]
  },
  {
   "cell_type": "code",
   "execution_count": 6,
   "metadata": {},
   "outputs": [
    {
     "name": "stderr",
     "output_type": "stream",
     "text": [
      "2020-08-21 14:02:16,249 INFO     pid:6820 nb:004:run Running: prepcache.LunaPrepCacheApp(['--num-workers=8']).main()\n",
      "2020-08-21 14:02:18,403 INFO     pid:6820 prepcache:043:main Starting LunaPrepCacheApp, Namespace(batch_size=1024, num_workers=8)\n",
      "2020-08-21 14:02:21,976 INFO     pid:6820 dsets:272:__init__ <dsets.LunaDataset object at 0x0000023D3C35DD88>: 551065 training samples, 549714 neg, 1351 pos, unbalanced ratio\n",
      "2020-08-21 14:02:21,976 WARNING  pid:6820 util.util:221:enumerateWithEstimate Stuffing cache ----/539, starting\n",
      "2020-08-21 14:03:49,760 INFO     pid:6820 util.util:241:enumerateWithEstimate Stuffing cache   64/539, done at 2020-08-21 14:11:35, 0:08:42\n",
      "2020-08-21 14:06:35,089 INFO     pid:6820 util.util:241:enumerateWithEstimate Stuffing cache  256/539, done at 2020-08-21 14:10:45, 0:07:52\n",
      "2020-08-21 14:10:38,023 WARNING  pid:6820 util.util:252:enumerateWithEstimate Stuffing cache ----/539, done at 2020-08-21 14:10:38\n",
      "2020-08-21 14:10:38,041 INFO     pid:6820 nb:009:run Finished: prepcache.LunaPrepCacheApp.['--num-workers=8']).main()\n"
     ]
    }
   ],
   "source": [
    "run('prepcache.LunaPrepCacheApp')"
   ]
  },
  {
   "cell_type": "code",
   "execution_count": null,
   "metadata": {},
   "outputs": [
    {
     "name": "stderr",
     "output_type": "stream",
     "text": [
      "2020-08-21 15:10:56,385 INFO     pid:13940 nb:004:run Running: training.LunaTrainingApp(['--num-workers=8', '--epochs=10', '--batch-size=32', '--balanced', '--augmented', 'fully-augmented']).main()\n",
      "2020-08-21 15:10:56,396 INFO     pid:13940 training:127:initModel Using CUDA; 1 devices.\n",
      "2020-08-21 15:10:56,423 INFO     pid:13940 training:188:main Starting LunaTrainingApp, Namespace(augment_flip=False, augment_noise=False, augment_offset=False, augment_rotate=False, augment_scale=False, augmented=True, balanced=True, batch_size=32, comment='fully-augmented', epochs=10, num_workers=8, tb_prefix='12')\n",
      "2020-08-21 15:10:57,282 INFO     pid:13940 dsets:272:__init__ <dsets.LunaDataset object at 0x00000263EF7FD1C8>: 495958 training samples, 494743 neg, 1215 pos, 1:1 ratio\n",
      "2020-08-21 15:10:57,408 INFO     pid:13940 dsets:272:__init__ <dsets.LunaDataset object at 0x00000263EF801088>: 55107 validation samples, 54971 neg, 136 pos, unbalanced ratio\n",
      "2020-08-21 15:10:57,410 INFO     pid:13940 training:201:main Epoch 1 of 10, 6250/1723 batches of size 32*1\n",
      "2020-08-21 15:10:57,985 WARNING  pid:13940 util.util:221:enumerateWithEstimate E1 Training ----/6250, starting\n",
      "2020-08-21 15:11:54,774 INFO     pid:13940 util.util:241:enumerateWithEstimate E1 Training   64/6250, done at 2020-08-21 15:27:31, 0:15:45\n",
      "2020-08-21 15:12:29,495 INFO     pid:13940 util.util:241:enumerateWithEstimate E1 Training  256/6250, done at 2020-08-21 15:29:52, 0:18:06\n",
      "2020-08-21 15:14:57,458 INFO     pid:13940 util.util:241:enumerateWithEstimate E1 Training 1024/6250, done at 2020-08-21 15:31:20, 0:19:34\n",
      "2020-08-21 15:24:41,116 INFO     pid:13940 util.util:241:enumerateWithEstimate E1 Training 4096/6250, done at 2020-08-21 15:31:29, 0:19:43\n",
      "2020-08-21 15:31:54,835 WARNING  pid:13940 util.util:252:enumerateWithEstimate E1 Training ----/6250, done at 2020-08-21 15:31:54\n",
      "2020-08-21 15:31:54,853 INFO     pid:13940 training:306:logMetrics E1 LunaTrainingApp\n",
      "2020-08-21 15:31:54,892 INFO     pid:13940 training:350:logMetrics E1 trn      0.2733 loss,  89.1% correct, 0.9194 precision, 0.8571 recall, 0.8872 f1 score\n",
      "2020-08-21 15:31:54,896 INFO     pid:13940 training:361:logMetrics E1 trn_neg  0.2459 loss,  92.5% correct (92487 of 100000)\n",
      "2020-08-21 15:31:54,900 INFO     pid:13940 training:372:logMetrics E1 trn_pos  0.3008 loss,  85.7% correct (85710 of 100000)\n",
      "2020-08-21 15:31:55,077 WARNING  pid:13940 util.util:221:enumerateWithEstimate E1 Validation  ----/1723, starting\n",
      "2020-08-21 15:32:34,158 INFO     pid:13940 util.util:241:enumerateWithEstimate E1 Validation    64/1723, done at 2020-08-21 15:35:25, 0:02:56\n",
      "2020-08-21 15:32:52,658 INFO     pid:13940 util.util:241:enumerateWithEstimate E1 Validation   256/1723, done at 2020-08-21 15:35:16, 0:02:47\n",
      "2020-08-21 15:34:08,476 INFO     pid:13940 util.util:241:enumerateWithEstimate E1 Validation  1024/1723, done at 2020-08-21 15:35:17, 0:02:48\n",
      "2020-08-21 15:35:18,139 WARNING  pid:13940 util.util:252:enumerateWithEstimate E1 Validation  ----/1723, done at 2020-08-21 15:35:18\n",
      "2020-08-21 15:35:18,142 INFO     pid:13940 training:306:logMetrics E1 LunaTrainingApp\n",
      "2020-08-21 15:35:18,150 INFO     pid:13940 training:350:logMetrics E1 val      0.2546 loss,  92.0% correct, 0.0262 precision, 0.8750 recall, 0.0510 f1 score\n",
      "2020-08-21 15:35:18,154 INFO     pid:13940 training:361:logMetrics E1 val_neg  0.2545 loss,  92.0% correct (50555 of 54971)\n",
      "2020-08-21 15:35:18,155 INFO     pid:13940 training:372:logMetrics E1 val_pos  0.2673 loss,  87.5% correct (119 of 136)\n",
      "2020-08-21 15:35:18,204 INFO     pid:13940 training:201:main Epoch 2 of 10, 6250/1723 batches of size 32*1\n",
      "2020-08-21 15:35:19,123 WARNING  pid:13940 util.util:221:enumerateWithEstimate E2 Training ----/6250, starting\n",
      "2020-08-21 15:36:24,524 INFO     pid:13940 util.util:241:enumerateWithEstimate E2 Training   64/6250, done at 2020-08-21 15:55:47, 0:19:33\n",
      "2020-08-21 15:36:59,115 INFO     pid:13940 util.util:241:enumerateWithEstimate E2 Training  256/6250, done at 2020-08-21 15:55:09, 0:18:55\n",
      "2020-08-21 15:39:27,993 INFO     pid:13940 util.util:241:enumerateWithEstimate E2 Training 1024/6250, done at 2020-08-21 15:56:05, 0:19:51\n",
      "2020-08-21 15:49:18,357 INFO     pid:13940 util.util:241:enumerateWithEstimate E2 Training 4096/6250, done at 2020-08-21 15:56:11, 0:19:57\n",
      "2020-08-21 15:56:25,731 WARNING  pid:13940 util.util:252:enumerateWithEstimate E2 Training ----/6250, done at 2020-08-21 15:56:25\n"
     ]
    }
   ],
   "source": [
    "run('training.LunaTrainingApp', f'--epochs={training_epochs}', '--batch-size=32', '--balanced', '--augmented', 'fully-augmented')"
   ]
  },
  {
   "cell_type": "code",
   "execution_count": null,
   "metadata": {},
   "outputs": [],
   "source": []
  }
 ],
 "metadata": {
  "kernelspec": {
   "display_name": "Python 3",
   "language": "python",
   "name": "python3"
  },
  "language_info": {
   "codemirror_mode": {
    "name": "ipython",
    "version": 3
   },
   "file_extension": ".py",
   "mimetype": "text/x-python",
   "name": "python",
   "nbconvert_exporter": "python",
   "pygments_lexer": "ipython3",
   "version": "3.7.6"
  }
 },
 "nbformat": 4,
 "nbformat_minor": 2
}
