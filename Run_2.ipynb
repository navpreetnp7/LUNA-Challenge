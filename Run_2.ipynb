{
 "cells": [
  {
   "cell_type": "code",
   "execution_count": 2,
   "metadata": {},
   "outputs": [],
   "source": [
    "import datetime\n",
    "\n",
    "from util.util import importstr\n",
    "from util.logconf import logging\n",
    "log = logging.getLogger('nb')"
   ]
  },
  {
   "cell_type": "code",
   "execution_count": 3,
   "metadata": {},
   "outputs": [],
   "source": [
    "def run(app, *argv):\n",
    "    argv = list(argv)\n",
    "    argv.insert(0, '--num-workers=8')  # <1>\n",
    "    log.info(\"Running: {}({!r}).main()\".format(app, argv))\n",
    "    \n",
    "    app_cls = importstr(*app.rsplit('.', 1))  # <2>\n",
    "    app_cls(argv).main()\n",
    "    \n",
    "    log.info(\"Finished: {}.{!r}).main()\".format(app, argv))"
   ]
  },
  {
   "cell_type": "code",
   "execution_count": 4,
   "metadata": {},
   "outputs": [],
   "source": [
    "import os\n",
    "import shutil\n",
    "\n",
    "# clean up any old data that might be around.\n",
    "# We don't call this by default because it's destructive, \n",
    "# and would waste a lot of time if it ran when nothing \n",
    "# on the application side had changed.\n",
    "def cleanCache():\n",
    "    shutil.rmtree('data-unversioned/cache')\n",
    "    os.mkdir('data-unversioned/cache')\n",
    "\n",
    "# cleanCache()"
   ]
  },
  {
   "cell_type": "code",
   "execution_count": 8,
   "metadata": {},
   "outputs": [],
   "source": [
    "training_epochs = 20"
   ]
  },
  {
   "cell_type": "code",
   "execution_count": 6,
   "metadata": {},
   "outputs": [
    {
     "name": "stderr",
     "output_type": "stream",
     "text": [
      "2020-08-21 14:02:16,249 INFO     pid:6820 nb:004:run Running: prepcache.LunaPrepCacheApp(['--num-workers=8']).main()\n",
      "2020-08-21 14:02:18,403 INFO     pid:6820 prepcache:043:main Starting LunaPrepCacheApp, Namespace(batch_size=1024, num_workers=8)\n",
      "2020-08-21 14:02:21,976 INFO     pid:6820 dsets:272:__init__ <dsets.LunaDataset object at 0x0000023D3C35DD88>: 551065 training samples, 549714 neg, 1351 pos, unbalanced ratio\n",
      "2020-08-21 14:02:21,976 WARNING  pid:6820 util.util:221:enumerateWithEstimate Stuffing cache ----/539, starting\n",
      "2020-08-21 14:03:49,760 INFO     pid:6820 util.util:241:enumerateWithEstimate Stuffing cache   64/539, done at 2020-08-21 14:11:35, 0:08:42\n",
      "2020-08-21 14:06:35,089 INFO     pid:6820 util.util:241:enumerateWithEstimate Stuffing cache  256/539, done at 2020-08-21 14:10:45, 0:07:52\n",
      "2020-08-21 14:10:38,023 WARNING  pid:6820 util.util:252:enumerateWithEstimate Stuffing cache ----/539, done at 2020-08-21 14:10:38\n",
      "2020-08-21 14:10:38,041 INFO     pid:6820 nb:009:run Finished: prepcache.LunaPrepCacheApp.['--num-workers=8']).main()\n"
     ]
    }
   ],
   "source": [
    "run('prepcache.LunaPrepCacheApp')"
   ]
  },
  {
   "cell_type": "code",
   "execution_count": null,
   "metadata": {},
   "outputs": [
    {
     "name": "stderr",
     "output_type": "stream",
     "text": [
      "2020-08-21 14:20:54,282 INFO     pid:6820 nb:004:run Running: training.LunaTrainingApp(['--num-workers=8', '--epochs=20', '--batch-size=64', '--balanced', '--augmented', 'fully-augmented']).main()\n",
      "2020-08-21 14:20:54,289 INFO     pid:6820 training:127:initModel Using CUDA; 1 devices.\n",
      "2020-08-21 14:20:54,618 INFO     pid:6820 training:188:main Starting LunaTrainingApp, Namespace(augment_flip=False, augment_noise=False, augment_offset=False, augment_rotate=False, augment_scale=False, augmented=True, balanced=True, batch_size=64, comment='fully-augmented', epochs=20, num_workers=8, tb_prefix='12')\n",
      "2020-08-21 14:20:55,074 INFO     pid:6820 dsets:272:__init__ <dsets.LunaDataset object at 0x0000023D4726D948>: 495958 training samples, 494743 neg, 1215 pos, 1:1 ratio\n",
      "2020-08-21 14:20:55,132 INFO     pid:6820 dsets:272:__init__ <dsets.LunaDataset object at 0x0000023D46DEC288>: 55107 validation samples, 54971 neg, 136 pos, unbalanced ratio\n",
      "2020-08-21 14:20:55,132 INFO     pid:6820 training:201:main Epoch 1 of 20, 3125/862 batches of size 64*1\n",
      "2020-08-21 14:20:55,481 WARNING  pid:6820 util.util:221:enumerateWithEstimate E1 Training ----/3125, starting\n",
      "2020-08-21 14:21:49,939 INFO     pid:6820 util.util:241:enumerateWithEstimate E1 Training   64/3125, done at 2020-08-21 14:41:34, 0:20:06\n",
      "2020-08-21 14:22:26,431 INFO     pid:6820 util.util:241:enumerateWithEstimate E1 Training  256/3125, done at 2020-08-21 14:33:40, 0:12:13\n"
     ]
    }
   ],
   "source": [
    "run('training.LunaTrainingApp', f'--epochs={training_epochs}', '--batch-size=64', '--balanced', '--augmented', 'fully-augmented')"
   ]
  },
  {
   "cell_type": "code",
   "execution_count": null,
   "metadata": {},
   "outputs": [],
   "source": []
  }
 ],
 "metadata": {
  "kernelspec": {
   "display_name": "Python 3",
   "language": "python",
   "name": "python3"
  },
  "language_info": {
   "codemirror_mode": {
    "name": "ipython",
    "version": 3
   },
   "file_extension": ".py",
   "mimetype": "text/x-python",
   "name": "python",
   "nbconvert_exporter": "python",
   "pygments_lexer": "ipython3",
   "version": "3.7.6"
  }
 },
 "nbformat": 4,
 "nbformat_minor": 2
}
